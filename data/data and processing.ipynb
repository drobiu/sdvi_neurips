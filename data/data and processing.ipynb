{
 "cells": [
  {
   "cell_type": "code",
   "execution_count": 3,
   "id": "f763bac8",
   "metadata": {},
   "outputs": [],
   "source": [
    "import numpy as np\n",
    "import os\n",
    "import matplotlib.pyplot as plt"
   ]
  },
  {
   "cell_type": "markdown",
   "id": "8096e797",
   "metadata": {},
   "source": [
    "$$ y_i = \\Sigma^{P4}_{d=1}β_d x_{i,d} + ϵ_i $$ where $ ϵ_i ∼ N(0, 1)$, $x_{i,d} ∼ N (0, 1)$ and $ β = [1.5, 1.5, 0.3, 0.1] $"
   ]
  },
  {
   "cell_type": "code",
   "execution_count": 4,
   "id": "9468b04b",
   "metadata": {},
   "outputs": [],
   "source": [
    "beta = [1.5, 1.5, 0.3, 0.1]"
   ]
  },
  {
   "cell_type": "code",
   "execution_count": 5,
   "id": "6567a1b3",
   "metadata": {},
   "outputs": [],
   "source": [
    "def generate_data(n):\n",
    "    xs = []\n",
    "    ys = []\n",
    "    \n",
    "    for i in range(n):\n",
    "        y = 0\n",
    "        x = []\n",
    "        e = np.random.normal()\n",
    "\n",
    "        for b in beta:\n",
    "            x_current = np.random.normal()\n",
    "            x.append(x_current)\n",
    "            y += b * x_current + e\n",
    "        \n",
    "        xs.append(x)\n",
    "        ys.append(y)\n",
    "        \n",
    "    return np.array(xs), np.array(ys)"
   ]
  },
  {
   "cell_type": "code",
   "execution_count": 6,
   "id": "a7262c25",
   "metadata": {},
   "outputs": [
    {
     "data": {
      "text/plain": [
       "(array([[ 6.78912962e-01, -1.27506908e+00, -6.32415978e-01,\n",
       "         -7.49959301e-01],\n",
       "        [-6.48553187e-01, -1.50986976e+00, -2.39953342e+00,\n",
       "         -1.31769483e-01],\n",
       "        [ 2.60002406e-01, -5.04852628e-01,  1.60020803e+00,\n",
       "          1.28342345e+00],\n",
       "        [-1.32109364e-04,  2.02651137e+00,  2.09536062e-01,\n",
       "         -1.85332715e+00],\n",
       "        [ 5.43358465e-01,  4.74048179e-01,  4.55048908e-01,\n",
       "         -9.79164234e-01],\n",
       "        [-5.47400491e-02,  7.60005322e-01,  6.69916216e-01,\n",
       "         -7.39615752e-01],\n",
       "        [-1.44646514e-01,  1.14978819e-01, -2.62283645e+00,\n",
       "         -3.68087356e-01],\n",
       "        [ 4.95352722e-01,  1.10262427e+00,  8.31965487e-02,\n",
       "         -1.03810546e+00],\n",
       "        [ 7.42700000e-01, -1.83462888e+00,  9.96780532e-01,\n",
       "         -7.41593388e-01],\n",
       "        [ 6.18076514e-02, -4.00041458e-01,  3.66001752e-03,\n",
       "         -1.21965827e+00],\n",
       "        [-2.17074321e-01, -4.34175081e-01,  1.05249255e+00,\n",
       "         -1.68411970e-01],\n",
       "        [-7.60451889e-01,  3.44163448e+00,  5.40685640e-01,\n",
       "          3.47438356e-01],\n",
       "        [-1.81430208e-01, -8.94930675e-01, -3.33574349e-01,\n",
       "          3.50644056e-01],\n",
       "        [-1.78122389e+00, -2.57810113e+00,  2.32773156e+00,\n",
       "          2.52770723e-01],\n",
       "        [-2.69107188e-01, -3.70794028e-01,  1.40713579e+00,\n",
       "          8.26189580e-01],\n",
       "        [ 1.06596424e+00,  9.26253582e-02, -8.30261074e-02,\n",
       "          2.57153005e-02],\n",
       "        [ 3.78549024e-02, -2.10529093e+00,  1.31042144e+00,\n",
       "          6.78443871e-01],\n",
       "        [ 6.63262120e-01,  4.48069062e-01,  3.02506118e-02,\n",
       "         -3.13894020e-01],\n",
       "        [-6.01685629e-01,  7.85295586e-01,  8.55866127e-01,\n",
       "          5.02234557e-02],\n",
       "        [-6.35249588e-01,  1.44906296e+00, -2.39699207e-01,\n",
       "         -1.26434150e+00],\n",
       "        [ 5.30632012e-02,  5.77407383e-01,  1.14234522e+00,\n",
       "          8.23784596e-01],\n",
       "        [ 7.24054371e-01,  1.65052409e+00,  2.86071201e+00,\n",
       "          1.06267760e+00],\n",
       "        [-5.78974396e-01,  3.88542892e-01,  1.08202280e+00,\n",
       "         -1.05159239e-01],\n",
       "        [ 1.39551662e+00, -1.33652195e-01,  2.64172166e-01,\n",
       "         -7.19552943e-01],\n",
       "        [-1.95300640e+00, -7.64505506e-02, -9.17498174e-02,\n",
       "         -1.80993323e+00],\n",
       "        [ 1.29386235e+00, -3.06699444e+00, -1.99454291e-01,\n",
       "         -1.15116976e+00],\n",
       "        [ 4.72053266e-01, -1.58849195e-01,  7.56600329e-01,\n",
       "         -2.91852496e+00],\n",
       "        [ 1.16216180e-01, -3.60820632e-01, -6.76741779e-01,\n",
       "         -3.88246766e-01],\n",
       "        [ 9.16057680e-01,  1.16171786e+00, -8.64938362e-01,\n",
       "         -3.37086786e-01],\n",
       "        [-7.70342771e-01,  8.39977769e-01,  8.73874638e-01,\n",
       "          1.36128023e+00],\n",
       "        [-5.38737565e-01,  2.84160430e-01, -5.06859254e-01,\n",
       "         -2.01625127e+00],\n",
       "        [ 2.68666024e-01,  1.46224082e-01, -1.91873446e-01,\n",
       "         -2.95603932e-01],\n",
       "        [-6.24096307e-01,  1.22448020e+00, -5.16825839e-01,\n",
       "          3.39868598e-01],\n",
       "        [-7.53253205e-01, -6.77591990e-01,  8.20286218e-01,\n",
       "          1.12847294e-01],\n",
       "        [ 7.52107652e-02, -1.29283443e+00,  1.18260294e-01,\n",
       "          1.92407156e+00],\n",
       "        [ 3.01675159e+00, -4.05387511e-01, -6.14103120e-01,\n",
       "         -1.16097855e+00],\n",
       "        [ 1.02367106e+00, -1.50212839e+00, -1.86494426e-01,\n",
       "         -4.99182422e-01],\n",
       "        [ 8.85285964e-01,  1.07108673e-01,  3.95130737e-01,\n",
       "          1.12442590e+00],\n",
       "        [ 9.62963772e-02,  4.28025498e-01, -1.05641962e+00,\n",
       "         -1.09873659e+00],\n",
       "        [ 3.20320966e-01, -3.68731259e-02, -1.21851317e+00,\n",
       "          5.50364163e-01],\n",
       "        [-5.68953906e-01, -1.56901156e-01,  1.13364732e+00,\n",
       "          1.30068558e+00],\n",
       "        [ 8.67049349e-01, -1.03445560e+00,  4.50542521e-01,\n",
       "          1.36623152e+00],\n",
       "        [-5.57862552e-01,  6.80891608e-01,  2.75872117e-01,\n",
       "         -1.40790406e+00],\n",
       "        [-6.42834602e-01, -1.20501610e+00, -1.58089915e-01,\n",
       "          1.29167867e+00],\n",
       "        [-9.38732365e-01,  6.32934477e-01,  1.42695831e+00,\n",
       "         -3.34102551e-01],\n",
       "        [-2.53293434e+00, -1.55163318e+00,  2.14438895e+00,\n",
       "         -4.99752591e-01],\n",
       "        [-1.61760351e+00, -1.12133387e+00,  1.33229635e+00,\n",
       "          4.41267444e-01],\n",
       "        [ 8.64254086e-01,  4.95914174e-02, -4.16967189e-01,\n",
       "         -1.57032881e+00],\n",
       "        [-1.11404257e+00,  8.67444211e-01,  1.62730250e+00,\n",
       "          8.71768279e-01],\n",
       "        [-6.49745007e-02,  5.12243939e-02,  6.82984235e-01,\n",
       "          1.38317266e+00],\n",
       "        [-1.15481226e+00, -2.13592665e+00,  1.04718316e+00,\n",
       "          1.76254439e+00],\n",
       "        [-6.90614723e-01,  1.45905250e-01, -1.46849995e+00,\n",
       "          8.54560994e-01],\n",
       "        [-7.95025936e-01, -8.20305259e-01,  1.24225018e-02,\n",
       "          6.87671429e-01],\n",
       "        [ 5.19287671e-01,  9.06520037e-01, -1.35776794e+00,\n",
       "         -3.86400224e-01],\n",
       "        [-4.55291569e-01,  5.32376942e-01,  1.00942960e+00,\n",
       "         -5.31955697e-01],\n",
       "        [ 1.02226626e+00,  1.71794575e-01,  3.84603407e-01,\n",
       "          1.03763065e+00],\n",
       "        [-4.18481058e-01,  4.07867194e-01, -6.58571674e-01,\n",
       "         -2.52067688e-01],\n",
       "        [ 2.60501219e+00, -6.78778361e-01, -2.95191880e-01,\n",
       "         -5.73091922e-01],\n",
       "        [-6.10791151e-01, -1.12104237e+00,  2.96436319e-01,\n",
       "         -7.98664465e-01],\n",
       "        [ 1.40898968e+00,  2.98338547e-01, -2.23084850e+00,\n",
       "          2.13586036e+00],\n",
       "        [-1.62135284e+00, -9.39918693e-01, -1.49620919e+00,\n",
       "         -2.49664024e+00],\n",
       "        [ 5.84520663e-01,  1.08633037e+00,  2.82622832e-01,\n",
       "          5.91041054e-01],\n",
       "        [ 9.79505168e-01,  4.84590556e-01, -8.44935947e-01,\n",
       "          4.08253833e-01],\n",
       "        [-1.20148133e-01,  2.70254005e+00,  1.28621385e+00,\n",
       "         -6.14567586e-01],\n",
       "        [ 1.39755465e-01,  7.33529572e-01, -2.22362537e-01,\n",
       "         -2.04205967e+00],\n",
       "        [-1.40177895e+00,  7.91942494e-01, -1.09044256e-01,\n",
       "          1.19763694e-01],\n",
       "        [-1.35827015e+00,  1.47262963e-01,  1.77405718e-01,\n",
       "         -6.81233454e-02],\n",
       "        [-4.15426611e-02, -1.24599034e-01, -5.02810493e-02,\n",
       "          9.77433904e-01],\n",
       "        [ 1.30431379e+00,  1.35475803e+00,  2.30234184e-01,\n",
       "         -1.02242684e+00],\n",
       "        [-1.14087387e+00, -1.22646695e+00,  6.12902025e-01,\n",
       "         -6.88672794e-01],\n",
       "        [ 7.55032758e-01, -1.12694290e+00, -6.85159678e-01,\n",
       "          1.52635418e-01],\n",
       "        [ 1.72690200e+00,  1.27919290e-01,  2.27872135e-01,\n",
       "         -3.79684683e-01],\n",
       "        [ 6.47795622e-01,  8.62809425e-02, -1.82497294e-01,\n",
       "         -5.55908410e-01],\n",
       "        [ 7.63180879e-01, -2.02490372e+00,  1.15667240e+00,\n",
       "          2.92647064e-01],\n",
       "        [ 4.91303478e-01,  6.79708722e-01, -1.89856239e-01,\n",
       "          6.97932905e-02],\n",
       "        [ 6.99830081e-01, -8.26124096e-01,  1.01068065e+00,\n",
       "          8.86415446e-01],\n",
       "        [-3.00447805e-01, -3.81217198e-01,  1.15304576e-02,\n",
       "          5.31803638e-01],\n",
       "        [ 1.81081964e+00,  7.18988323e-01,  3.02460839e-01,\n",
       "         -4.23796073e-01],\n",
       "        [-1.21139443e+00, -5.81296620e-01,  1.52954091e-01,\n",
       "         -5.94473944e-01],\n",
       "        [-4.84028370e-02, -1.09828533e+00,  2.66510631e-01,\n",
       "          4.48730347e-01],\n",
       "        [ 1.55793482e-01,  2.30742629e-01, -1.51354346e+00,\n",
       "          2.11359153e+00],\n",
       "        [-1.56207113e+00,  4.47504450e-01,  7.74200389e-01,\n",
       "         -1.11165928e+00],\n",
       "        [ 1.73506120e+00,  2.90099368e-01,  1.12327483e+00,\n",
       "         -1.57151425e-01],\n",
       "        [-3.15829631e-01, -6.65138490e-01, -3.74008049e-01,\n",
       "          2.35247675e-02],\n",
       "        [-6.27984302e-01, -6.45172517e-01, -1.57887438e+00,\n",
       "         -7.98526033e-01],\n",
       "        [-5.40616420e-01, -3.91644775e-01,  5.93349636e-01,\n",
       "          2.10615087e-01],\n",
       "        [ 1.35396909e+00, -1.45839569e-02, -2.45813810e+00,\n",
       "          1.96443423e+00],\n",
       "        [ 3.35966756e-01, -1.12536930e+00, -3.21335457e-01,\n",
       "          4.18235094e-02],\n",
       "        [ 2.54347567e-01, -1.15207384e+00, -2.40193412e-02,\n",
       "         -1.01952512e+00],\n",
       "        [ 8.72423409e-02, -1.84511014e-01,  1.52944669e-01,\n",
       "         -4.82194711e-01],\n",
       "        [ 2.65170334e-01, -7.54808871e-01,  5.19233422e-01,\n",
       "          5.48838588e-01],\n",
       "        [ 2.53875356e-01, -1.20279045e+00, -8.32570171e-01,\n",
       "         -2.22706989e-02],\n",
       "        [-1.52133092e+00,  2.05047832e-01,  6.35392247e-01,\n",
       "          4.92668581e-01],\n",
       "        [ 5.37300360e-02, -1.65358760e+00,  1.18689739e+00,\n",
       "          5.84463650e-01],\n",
       "        [-1.19126291e-01, -7.98632199e-01, -5.09799037e-03,\n",
       "          9.23535694e-01],\n",
       "        [-9.27371778e-01,  1.84710071e+00, -1.63678522e+00,\n",
       "         -8.67741891e-01],\n",
       "        [ 2.47172396e-02, -1.26981792e-01, -3.36173266e-01,\n",
       "         -1.22767983e+00],\n",
       "        [ 1.17499099e+00,  4.85435939e-01, -1.59427101e+00,\n",
       "          4.60404668e-01],\n",
       "        [ 5.51166100e-01, -6.03641514e-01,  3.36012175e-01,\n",
       "          1.15232679e-01],\n",
       "        [-1.67406418e-02, -6.05548175e-01,  1.76397407e-01,\n",
       "         -8.97451022e-01]]),\n",
       " array([ -2.30135708,   2.18666144,  -6.93677281,  -1.55621394,\n",
       "          0.2985514 ,  -1.45030851,  -1.58065455,   4.42247436,\n",
       "          5.5985338 ,  -1.32707438,  -7.61012133,  -2.16398978,\n",
       "         -5.0901903 ,  -6.70733325,   3.05527809,  -3.84763181,\n",
       "         -9.86879937,   1.93763824,  -6.43255663,   2.99367042,\n",
       "          2.65692863,   2.23726626,  -3.75882838,   3.96412209,\n",
       "         -1.17040787,  -4.03267084,  -6.53833794,  -3.01564014,\n",
       "          2.8462415 ,   1.77280307,  -3.74393724,   0.83746039,\n",
       "          2.06261487,  -2.66774772,  -8.9663534 ,   5.73867251,\n",
       "          0.9291082 ,  -5.85316126,  -0.75960932,   1.5379489 ,\n",
       "         -3.51511368,   7.99206963,   2.40714977,   3.79641108,\n",
       "          4.96236581,  -3.77992216,  -7.60418689,   4.17422474,\n",
       "          1.92794231,   7.70482815,  -2.90983882,   4.64526934,\n",
       "          2.93589243,   3.51520397,  -0.5262585 ,  12.2076966 ,\n",
       "          6.4247859 ,   9.99876757,  -5.79278596,   5.2700296 ,\n",
       "        -12.59042958,   0.887629  ,   9.44534819,   2.60354981,\n",
       "          4.72881974,  -1.83934957,  -5.040313  ,  -2.3978973 ,\n",
       "          1.14422041,  -6.8751099 ,   2.42774377,  -1.12893996,\n",
       "          5.66049594,  -1.17585083,   3.6139074 ,   0.6652135 ,\n",
       "        -10.6243552 ,  -1.75378432,  -0.56981118,   2.96463792,\n",
       "          7.75425354,  -2.08797393,   3.81469828,  -0.70607749,\n",
       "          3.08924783,  -0.81242413,   1.86453571,  -1.26829929,\n",
       "         -2.450434  ,  -0.71071172,  -3.49810672,  -6.56663369,\n",
       "         -3.2435014 ,  -0.73133813,  -9.18297448,   2.13665854,\n",
       "         -4.19524426,  10.28396611,   4.11666682,  -0.63599697]))"
      ]
     },
     "execution_count": 6,
     "metadata": {},
     "output_type": "execute_result"
    }
   ],
   "source": [
    "generate_data(100)"
   ]
  },
  {
   "cell_type": "code",
   "execution_count": 7,
   "id": "3010acd2",
   "metadata": {},
   "outputs": [],
   "source": [
    "os.makedirs('unnormalized_densities', exist_ok=True)\n",
    "\n",
    "ys = [np.random.normal() for _ in range(1000)]\n",
    "np.savetxt('unnormalized_densities/data.txt', ys)"
   ]
  },
  {
   "cell_type": "code",
   "execution_count": 8,
   "id": "f674d60c",
   "metadata": {},
   "outputs": [],
   "source": [
    "ip = np.array([('x,m1,y2', 1.0), ('x,m1,y1', 2.0802358842337718e-197)])"
   ]
  },
  {
   "cell_type": "code",
   "execution_count": 9,
   "id": "4f026b01",
   "metadata": {},
   "outputs": [],
   "source": [
    "np.savetxt('test', ip, fmt='%s', delimiter=' ', newline=' ')"
   ]
  },
  {
   "cell_type": "code",
   "execution_count": 19,
   "id": "0dfd447a",
   "metadata": {},
   "outputs": [],
   "source": [
    "weights = np.loadtxt('C:/Users/drobi/Desktop/uni/sdvi_neurips/experiments/overlapping_slps_sdvi/weights.txt', dtype='<U32')"
   ]
  },
  {
   "cell_type": "code",
   "execution_count": 20,
   "id": "56188b41",
   "metadata": {},
   "outputs": [],
   "source": [
    "parsed = {}\n",
    "for row in weights:\n",
    "    if row[0] not in parsed:\n",
    "        parsed[row[0]] = []\n",
    "    if row[2] not in parsed:\n",
    "        parsed[row[2]] = []\n",
    "    parsed[row[0]].append(float(row[1]))\n",
    "    parsed[row[2]].append(float(row[3]))"
   ]
  },
  {
   "cell_type": "code",
   "execution_count": 21,
   "id": "f2a8b85a",
   "metadata": {},
   "outputs": [
    {
     "data": {
      "text/plain": [
       "{'theta1,theta2,m1,y2': [0.9999765180404133,\n",
       "  1.0,\n",
       "  1.5836564393291282e-69,\n",
       "  0.9999765180404133,\n",
       "  1.0,\n",
       "  1.5836564393291282e-69,\n",
       "  0.6864024022303964,\n",
       "  1.0,\n",
       "  1.0,\n",
       "  1.0,\n",
       "  7.889406178012357e-09,\n",
       "  4.933420856518955e-67,\n",
       "  1.8576628847795368e-17,\n",
       "  3.594002007400158e-52,\n",
       "  8.876816231758194e-06,\n",
       "  1.0,\n",
       "  1.3674521984377485e-108,\n",
       "  1.0,\n",
       "  1.0,\n",
       "  1.8352961387673755e-67,\n",
       "  2.367177801858201e-13,\n",
       "  1.0,\n",
       "  2.978020076234401e-07,\n",
       "  1.5220788291407924e-36,\n",
       "  1.0,\n",
       "  9.263180824731557e-21,\n",
       "  5.942564160248428e-160,\n",
       "  2.149773096273004e-06,\n",
       "  6.849741707310106e-56,\n",
       "  0.9927344880170204],\n",
       " 'theta1,theta2,m1,y1': [2.3481959613075093e-05,\n",
       "  2.7852957620917805e-90,\n",
       "  1.0,\n",
       "  2.3481959613075093e-05,\n",
       "  2.7852957620917805e-90,\n",
       "  1.0,\n",
       "  0.31359759776958457,\n",
       "  1.1914171891794859e-42,\n",
       "  6.033786321101632e-53,\n",
       "  1.1426042370490867e-66,\n",
       "  0.9999999921105882,\n",
       "  1.0,\n",
       "  1.0,\n",
       "  1.0,\n",
       "  0.9999911231837539,\n",
       "  6.687538539047896e-63,\n",
       "  1.0,\n",
       "  3.763212236962815e-49,\n",
       "  1.9335692883776673e-43,\n",
       "  1.0,\n",
       "  0.9999999999997726,\n",
       "  1.2544214436343763e-17,\n",
       "  0.9999997021979413,\n",
       "  1.0,\n",
       "  4.032100440937682e-100,\n",
       "  1.0,\n",
       "  1.0,\n",
       "  0.9999978502269558,\n",
       "  1.0,\n",
       "  0.007265511983034453]}"
      ]
     },
     "execution_count": 21,
     "metadata": {},
     "output_type": "execute_result"
    }
   ],
   "source": [
    "parsed"
   ]
  },
  {
   "cell_type": "code",
   "execution_count": 22,
   "id": "910a3eec",
   "metadata": {},
   "outputs": [],
   "source": [
    "ys = np.random.normal(size=len(parsed['theta1,theta2,m1,y2'])) * 0.005"
   ]
  },
  {
   "cell_type": "code",
   "execution_count": 23,
   "id": "3fc1d0bd",
   "metadata": {},
   "outputs": [
    {
     "data": {
      "text/plain": [
       "([], [])"
      ]
     },
     "execution_count": 23,
     "metadata": {},
     "output_type": "execute_result"
    },
    {
     "data": {
      "image/png": "[encoded data removed]",
      "text/plain": [
       "<Figure size 600x100 with 1 Axes>"
      ]
     },
     "metadata": {},
     "output_type": "display_data"
    }
   ],
   "source": [
    "plt.figure(figsize=(6,1))\n",
    "plt.scatter(parsed['theta1,theta2,m1,y2'], ys, alpha=0.3, s=15)\n",
    "plt.xlim(-0.1, 1.1)\n",
    "plt.ylim(-0.1, 0.1)\n",
    "plt.yticks([])"
   ]
  },
  {
   "cell_type": "code",
   "execution_count": 47,
   "id": "03af279a",
   "metadata": {},
   "outputs": [
    {
     "data": {
      "text/plain": [
       "(array([19.,  0.,  0.,  0.,  0.,  0.,  0.,  0.,  0.,  0.,  0.,  0.,  0.,\n",
       "         0.,  0.,  0.,  0.,  0.,  0.,  0.,  0.,  0.,  0.,  0.,  0.,  0.,\n",
       "         0.,  0.,  0.,  0.,  0.,  0.,  0.,  0.,  0.,  0.,  0.,  0.,  0.,\n",
       "         0.,  0.,  0.,  0.,  0.,  0.,  0.,  0.,  0.,  0.,  0.,  0.,  0.,\n",
       "         0.,  0.,  0.,  0.,  0.,  0.,  0.,  0.,  0.,  0.,  0.,  0.,  0.,\n",
       "         0.,  0.,  0.,  0.,  0.,  0.,  0.,  0.,  0.,  0.,  0.,  0.,  0.,\n",
       "         0.,  0.,  0.,  0.,  0.,  0.,  0.,  0.,  0.,  0.,  0.,  0.,  0.,\n",
       "         0.,  0.,  0.,  0.,  0.,  0.,  0.,  0., 22.]),\n",
       " array([0.  , 0.01, 0.02, 0.03, 0.04, 0.05, 0.06, 0.07, 0.08, 0.09, 0.1 ,\n",
       "        0.11, 0.12, 0.13, 0.14, 0.15, 0.16, 0.17, 0.18, 0.19, 0.2 , 0.21,\n",
       "        0.22, 0.23, 0.24, 0.25, 0.26, 0.27, 0.28, 0.29, 0.3 , 0.31, 0.32,\n",
       "        0.33, 0.34, 0.35, 0.36, 0.37, 0.38, 0.39, 0.4 , 0.41, 0.42, 0.43,\n",
       "        0.44, 0.45, 0.46, 0.47, 0.48, 0.49, 0.5 , 0.51, 0.52, 0.53, 0.54,\n",
       "        0.55, 0.56, 0.57, 0.58, 0.59, 0.6 , 0.61, 0.62, 0.63, 0.64, 0.65,\n",
       "        0.66, 0.67, 0.68, 0.69, 0.7 , 0.71, 0.72, 0.73, 0.74, 0.75, 0.76,\n",
       "        0.77, 0.78, 0.79, 0.8 , 0.81, 0.82, 0.83, 0.84, 0.85, 0.86, 0.87,\n",
       "        0.88, 0.89, 0.9 , 0.91, 0.92, 0.93, 0.94, 0.95, 0.96, 0.97, 0.98,\n",
       "        0.99, 1.  ]),\n",
       " <BarContainer object of 100 artists>)"
      ]
     },
     "execution_count": 47,
     "metadata": {},
     "output_type": "execute_result"
    },
    {
     "data": {
      "image/png": "[encoded data removed]",
      "text/plain": [
       "<Figure size 640x480 with 1 Axes>"
      ]
     },
     "metadata": {},
     "output_type": "display_data"
    }
   ],
   "source": [
    "plt.hist(parsed['x,m1,y1'], bins=100)"
   ]
  },
  {
   "cell_type": "code",
   "execution_count": 18,
   "id": "45a0a6d7",
   "metadata": {},
   "outputs": [
    {
     "data": {
      "text/plain": [
       "0.0981"
      ]
     },
     "execution_count": 18,
     "metadata": {},
     "output_type": "execute_result"
    }
   ],
   "source": [
    "np.round(0.09809808, 4)"
   ]
  },
  {
   "cell_type": "code",
   "execution_count": 24,
   "id": "8716c413",
   "metadata": {},
   "outputs": [],
   "source": [
    "import torch"
   ]
  },
  {
   "cell_type": "code",
   "execution_count": 36,
   "id": "9fcb2f4f",
   "metadata": {},
   "outputs": [],
   "source": [
    "x = torch.tensor(0)"
   ]
  },
  {
   "cell_type": "code",
   "execution_count": 37,
   "id": "dea3ca55",
   "metadata": {},
   "outputs": [
    {
     "data": {
      "text/plain": [
       "True"
      ]
     },
     "execution_count": 37,
     "metadata": {},
     "output_type": "execute_result"
    }
   ],
   "source": [
    "len(x.size()) <= 0"
   ]
  },
  {
   "cell_type": "code",
   "execution_count": 38,
   "id": "37870742",
   "metadata": {},
   "outputs": [],
   "source": [
    "y = torch.tensor([0, 1])"
   ]
  },
  {
   "cell_type": "code",
   "execution_count": 39,
   "id": "00a4aa1b",
   "metadata": {},
   "outputs": [
    {
     "data": {
      "text/plain": [
       "False"
      ]
     },
     "execution_count": 39,
     "metadata": {},
     "output_type": "execute_result"
    }
   ],
   "source": [
    "len(y.size()) <= 0"
   ]
  },
  {
   "cell_type": "code",
   "execution_count": 50,
   "id": "83377592",
   "metadata": {},
   "outputs": [
    {
     "data": {
      "text/plain": [
       "'0.285'"
      ]
     },
     "execution_count": 50,
     "metadata": {},
     "output_type": "execute_result"
    }
   ],
   "source": [
    "n = 0.284938\n",
    "p = 3\n",
    "f\"{n:.{p}f}\""
   ]
  },
  {
   "cell_type": "code",
   "execution_count": 59,
   "id": "04226123",
   "metadata": {},
   "outputs": [
    {
     "data": {
      "text/plain": [
       "0"
      ]
     },
     "execution_count": 59,
     "metadata": {},
     "output_type": "execute_result"
    }
   ],
   "source": [
    "1 & 0"
   ]
  },
  {
   "cell_type": "code",
   "execution_count": 60,
   "id": "a03afce9",
   "metadata": {},
   "outputs": [
    {
     "data": {
      "text/plain": [
       "0"
      ]
     },
     "execution_count": 60,
     "metadata": {},
     "output_type": "execute_result"
    }
   ],
   "source": [
    "int(torch.tensor(0.))"
   ]
  },
  {
   "cell_type": "code",
   "execution_count": null,
   "id": "c948f191",
   "metadata": {},
   "outputs": [],
   "source": []
  }
 ],
 "metadata": {
  "kernelspec": {
   "display_name": "Python 3 (ipykernel)",
   "language": "python",
   "name": "python3"
  },
  "language_info": {
   "codemirror_mode": {
    "name": "ipython",
    "version": 3
   },
   "file_extension": ".py",
   "mimetype": "text/x-python",
   "name": "python",
   "nbconvert_exporter": "python",
   "pygments_lexer": "ipython3",
   "version": "3.10.9"
  }
 },
 "nbformat": 4,
 "nbformat_minor": 5
}
